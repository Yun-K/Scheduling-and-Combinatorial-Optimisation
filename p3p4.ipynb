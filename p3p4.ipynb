{
 "cells": [
  {
   "cell_type": "markdown",
   "metadata": {},
   "source": [
    "# Part 3: Genetic Algorithms \n",
    "\n",
    "Traveling Salesman Problem (TSP) is to find a Hamiltonian cycle that visits each node in the graph exactly once.\n",
    "The goal is to minimise the total cost/distance of the cycle.\n",
    "In the tutorial1, we have shown how to design local search to solve TSP. The local search is based on the 2-opt operator, and has two versions, one with best improvement and the other with first improvement.\n",
    "However, local search is easy to get stuck into poor local optima. Genetic algorithms are promising techniques to escape from local optima and reach better solutions.\n",
    "\n",
    "Requirement\n",
    "\n",
    "You are required to develop a genetic algorithm to solve TSP.\n",
    "\n",
    "1. Develop and implement the chromosome representation, fitness evaluation, crossover and mutation operators,and selection schemes.\n",
    "2. Design the overall genetic algorithm framework, set the parameters, implement the algorithm and apply to the\n",
    "given berlin52.tsp instance. You can use the code in the tutorial to read the instance, preprocess the data\n",
    "and display the solutions.\n",
    "3. In the report, clearly describe the genetic algorithm framework, chromosome representation, fitness evaluation, initialisation, crossover and mutation operators, and selection schemes.\n",
    "4. In the report, draw the convergence curve of the performance, where the x-axis is the generation, and y-axis is the total cost of the best solution in the population in each generation.\n",
    "5. In the report, compare the results with that obtained by the local search (by running the tutorial code), make deep and comprehensive discussions based on your observations, and draw conclusions."
   ]
  },
  {
   "cell_type": "code",
   "execution_count": null,
   "metadata": {},
   "outputs": [],
   "source": []
  }
 ],
 "metadata": {
  "kernelspec": {
   "display_name": "Python 3.10.5 64-bit",
   "language": "python",
   "name": "python3"
  },
  "language_info": {
   "name": "python",
   "version": "3.10.5"
  },
  "orig_nbformat": 4,
  "vscode": {
   "interpreter": {
    "hash": "e7370f93d1d0cde622a1f8e1c04877d8463912d04d973331ad4851f04de6915a"
   }
  }
 },
 "nbformat": 4,
 "nbformat_minor": 2
}
