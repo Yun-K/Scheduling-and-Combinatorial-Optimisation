{
 "cells": [
  {
   "cell_type": "markdown",
   "metadata": {},
   "source": [
    "# Part 1: Mathematical Programming"
   ]
  },
  {
   "cell_type": "code",
   "execution_count": 7,
   "metadata": {},
   "outputs": [],
   "source": [
    "from distutils.command.build_scripts import first_line_re\n",
    "from tkinter.tix import COLUMN\n",
    "import pandas as pd\n",
    "import numpy as np\n",
    "# from webob import second\n",
    "\n",
    "smallFilePath = '../cloud_resource_allocation/small.csv'\n",
    "largeFilePath = '../cloud_resource_allocation/large.csv'\n",
    "\n",
    "class CloudResourceAllocation:\n",
    "    '''For each instance, we have following fields: \n",
    "            the 1st line of the csv files contains the number of jobs N,\n",
    "            2nd line contains the CPU capacity Q1, and memory capacity Q2, \n",
    "            3rd line onwards contains the \n",
    "                    ID, CPU demand, memory demand,\n",
    "                    and payment of a job.\n",
    "    '''\n",
    "    def __init__(self, filePath):\n",
    "        with open(filePath, 'r') as file:\n",
    "            first_line = file.readline()\n",
    "            second_line = file.readline()\n",
    "            self.N = int(first_line.split(',')[0])\n",
    "            self.Q1,self.Q2 = int(second_line.split(',')[0]),int(second_line.split(',')[1])\n",
    "            \n",
    "        self.features = pd.read_csv(filePath, skiprows=range(2), header=None)\n",
    "        self.features.columns = ['ID', 'CPUDemand', 'MemoryDemand','payment']\n",
    "    \n",
    "    def get_features(self):\n",
    "        return self.features_left\n",
    "    \n",
    "    def __str__(self) -> str:\n",
    "        return f'N: {self.N}, CPU Capacity Q1: {self.Q1}, Memort Capacity Q2: {self.Q2}, \\n features_left:\\n{self.features}'"
   ]
  },
  {
   "cell_type": "code",
   "execution_count": 8,
   "metadata": {},
   "outputs": [
    {
     "name": "stdout",
     "output_type": "stream",
     "text": [
      "N: 10, CPU Capacity Q1: 1000, Memort Capacity Q2: 2000, \n",
      " features_left:\n",
      "   ID  CPUDemand  MemoryDemand  payment\n",
      "0   1        158           317      836\n",
      "1   2        136           280      607\n",
      "2   3        114            61      724\n",
      "3   4        203           372      269\n",
      "4   5          8            11      381\n",
      "5   6        183           189       24\n",
      "6   7         66            66      675\n",
      "7   8         41           391      907\n",
      "8   9        144           377      962\n",
      "9  10         36           297      531\n",
      "----------------------------------------------------------------------\n",
      "N: 1000, CPU Capacity Q1: 10000, Memort Capacity Q2: 10000, \n",
      " features_left:\n",
      "       ID  CPUDemand  MemoryDemand  payment\n",
      "0       1       1573          1581      836\n",
      "1       2       1359          1397      607\n",
      "2       3       1131           304      724\n",
      "3       4       2025          1857      269\n",
      "4       5         71            51      381\n",
      "..    ...        ...           ...      ...\n",
      "995   996        592           338      355\n",
      "996   997         87           712      212\n",
      "997   998        620          1832       27\n",
      "998   999       1997           307      707\n",
      "999  1000       1272           797      590\n",
      "\n",
      "[1000 rows x 4 columns]\n"
     ]
    }
   ],
   "source": [
    "small = CloudResourceAllocation(smallFilePath)\n",
    "large = CloudResourceAllocation(largeFilePath)\n",
    "\n",
    "# large = CloudResourceAllocation(largeFilePath)\n",
    "print(small.__str__())\n",
    "print('-'*70)\n",
    "print(large.__str__())"
   ]
  },
  {
   "cell_type": "markdown",
   "metadata": {},
   "source": [
    "# Part 1 \n",
    "The goal of the resource allocation problem is to decide which job to accept (and which to decline), so that the CPU and memory capacity is not exceeded by the accepted jobs, and the total charged payment is maximised"
   ]
  },
  {
   "cell_type": "code",
   "execution_count": 9,
   "metadata": {},
   "outputs": [],
   "source": [
    "# branch and bound \n",
    "def bounding(values, weights, capacity):\n",
    "    bound = 0\n",
    "    remaining_capacity = capacity\n",
    "    \n",
    "    efficiency = [values[i] / weights[i] for i in range(len(values))]\n",
    "    \n",
    "    sorted_idx = sorted(range(len(efficiency)), reverse=True, key=efficiency.__getitem__)\n",
    "    \n",
    "    for i in sorted_idx:\n",
    "        if weights[i] > remaining_capacity:\n",
    "            fraction = remaining_capacity / weights[i]\n",
    "            frac_value = fraction * values[i]\n",
    "            bound += frac_value\n",
    "            return bound\n",
    "        else:\n",
    "            bound += values[i]\n",
    "            remaining_capacity -= weights[i]\n",
    "    \n",
    "    return bound"
   ]
  },
  {
   "cell_type": "code",
   "execution_count": null,
   "metadata": {},
   "outputs": [],
   "source": [
    "# Import deque for the stack structure, copy for deep copy nodes\n",
    "from collections import deque\n",
    "import copy\n",
    "\n",
    "def knapsack_bb_dfs(values, weights, capacity):\n",
    "    # Initialise the root, where 'expanded_item' indicates the item to be expanded at this node\n",
    "    root = {\n",
    "        'solution': [0] * len(values),\n",
    "        'value': 0,\n",
    "        'weight': 0,\n",
    "        'expanded_item': 0\n",
    "    }\n",
    "    \n",
    "    # Initially, the fringe contains the root node only\n",
    "    best_solution = root\n",
    "    fringe = deque()\n",
    "    fringe.append(root)\n",
    "    \n",
    "    while len(fringe) > 0:\n",
    "        # Depth-first-search, Last-In-First-Out of the stack\n",
    "        node = fringe.pop()\n",
    "        \n",
    "        # Check if the node is a leaf node\n",
    "        if node['expanded_item'] == len(values):\n",
    "            if node['value'] > best_solution['value']:\n",
    "                best_solution = node\n",
    "                continue\n",
    "        \n",
    "        # Obtain the sub-problem: values, weights, capacity\n",
    "        node_values = values[node['expanded_item']:]\n",
    "        node_weights = weights[node['expanded_item']:]\n",
    "        node_capacity = capacity - node['weight']\n",
    "        \n",
    "        # Bounding on the sub-problem, and then add the value of the current solution\n",
    "        bound = bounding(node_values, node_weights, node_capacity) + node['value']\n",
    "        \n",
    "        # Prune the branch\n",
    "        if bound <= best_solution['value']:\n",
    "            continue\n",
    "            \n",
    "        # Branching on the expanded item, 0 or 1\n",
    "        expanded_item = node['expanded_item']\n",
    "        \n",
    "        # Child 1: unselect the expanded item\n",
    "        child1 = copy.deepcopy(node)\n",
    "        child1['solution'][expanded_item] = 0\n",
    "        child1['expanded_item'] = expanded_item + 1\n",
    "        fringe.append(child1)\n",
    "        \n",
    "        # Child 2: select the expanded item if the capacity is enough\n",
    "        new_weights = node['weight'] + weights[expanded_item]\n",
    "        \n",
    "        if new_weights <= capacity:\n",
    "            child2 = copy.deepcopy(node)\n",
    "            child2['solution'][expanded_item] = 1\n",
    "            child2['value'] = node['value'] + values[expanded_item]\n",
    "            child2['weight'] = new_weights\n",
    "            child2['expanded_item'] = expanded_item + 1\n",
    "            fringe.append(child2)\n",
    "    \n",
    "    return best_solution\n"
   ]
  }
 ],
 "metadata": {
  "kernelspec": {
   "display_name": "Python 3.9.13 64-bit",
   "language": "python",
   "name": "python3"
  },
  "language_info": {
   "codemirror_mode": {
    "name": "ipython",
    "version": 3
   },
   "file_extension": ".py",
   "mimetype": "text/x-python",
   "name": "python",
   "nbconvert_exporter": "python",
   "pygments_lexer": "ipython3",
   "version": "3.9.13"
  },
  "orig_nbformat": 4,
  "vscode": {
   "interpreter": {
    "hash": "52da647447b8fe2208076266408c42f82750713fb5b92055dee0a0742687bf52"
   }
  }
 },
 "nbformat": 4,
 "nbformat_minor": 2
}
