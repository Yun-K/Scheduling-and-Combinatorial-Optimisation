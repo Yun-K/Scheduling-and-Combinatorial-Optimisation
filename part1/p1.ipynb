{
 "cells": [
  {
   "cell_type": "markdown",
   "metadata": {},
   "source": [
    "# Part 1: Mathematical Programming"
   ]
  },
  {
   "cell_type": "code",
   "execution_count": 1,
   "metadata": {},
   "outputs": [],
   "source": [
    "from distutils.command.build_scripts import first_line_re\n",
    "from tkinter.tix import COLUMN\n",
    "import pandas as pd\n",
    "import numpy as np\n",
    "from webob import second\n",
    "\n",
    "smallFilePath = '../cloud_resource_allocation/small.csv'\n",
    "largeFilePath = '../cloud_resource_allocation/large.csv'\n",
    "\n",
    "class CloudResourceAllocation:\n",
    "    '''For each instance, we have following fields: \n",
    "            the 1st line of the csv files contains the number of jobs N,\n",
    "            2nd line contains the CPU capacity Q1, and memory capacity Q2, \n",
    "            3rd line onwards contains the \n",
    "                    ID, CPU demand, memory demand,\n",
    "                    and payment of a job.\n",
    "    '''\n",
    "    def __init__(self, filePath):\n",
    "        with open(filePath, 'r') as file:\n",
    "            first_line = file.readline()\n",
    "            second_line = file.readline()\n",
    "            self.N = int(first_line.split(',')[0])\n",
    "            self.Q1,self.Q2 = int(second_line.split(',')[0]),int(second_line.split(',')[1])\n",
    "            \n",
    "        self.features = pd.read_csv(filePath, skiprows=range(2), header=None)\n",
    "        self.features.columns = ['ID', 'CPUDemand', 'MemoryDemand','payment']\n",
    "    \n",
    "    def get_features(self):\n",
    "        return self.features_left\n",
    "    \n",
    "    def __str__(self) -> str:\n",
    "        return f'N: {self.N}, CPU Capacity Q1: {self.Q1}, Memort Capacity Q2: {self.Q2}, \\n features_left:\\n{self.features}'\n",
    "    "
   ]
  },
  {
   "cell_type": "code",
   "execution_count": 2,
   "metadata": {},
   "outputs": [
    {
     "name": "stdout",
     "output_type": "stream",
     "text": [
      "N: 10, CPU Capacity Q1: 1000, Memort Capacity Q2: 2000, \n",
      " features_left:\n",
      "   ID  CPUDemand  MemoryDemand  payment\n",
      "0   1        158           317      836\n",
      "1   2        136           280      607\n",
      "2   3        114            61      724\n",
      "3   4        203           372      269\n",
      "4   5          8            11      381\n",
      "5   6        183           189       24\n",
      "6   7         66            66      675\n",
      "7   8         41           391      907\n",
      "8   9        144           377      962\n",
      "9  10         36           297      531\n"
     ]
    }
   ],
   "source": [
    "small = CloudResourceAllocation(smallFilePath)\n",
    "# large = CloudResourceAllocation(largeFilePath)\n",
    "print(small.__str__())"
   ]
  },
  {
   "cell_type": "markdown",
   "metadata": {},
   "source": []
  },
  {
   "cell_type": "code",
   "execution_count": null,
   "metadata": {},
   "outputs": [],
   "source": []
  }
 ],
 "metadata": {
  "kernelspec": {
   "display_name": "Python 3.9.13 64-bit",
   "language": "python",
   "name": "python3"
  },
  "language_info": {
   "codemirror_mode": {
    "name": "ipython",
    "version": 3
   },
   "file_extension": ".py",
   "mimetype": "text/x-python",
   "name": "python",
   "nbconvert_exporter": "python",
   "pygments_lexer": "ipython3",
   "version": "3.9.13"
  },
  "orig_nbformat": 4,
  "vscode": {
   "interpreter": {
    "hash": "52da647447b8fe2208076266408c42f82750713fb5b92055dee0a0742687bf52"
   }
  }
 },
 "nbformat": 4,
 "nbformat_minor": 2
}
